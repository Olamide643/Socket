{
 "cells": [
  {
   "cell_type": "code",
   "execution_count": 1,
   "metadata": {},
   "outputs": [],
   "source": [
    "import socket\n",
    "import threading "
   ]
  },
  {
   "cell_type": "code",
   "execution_count": 2,
   "metadata": {},
   "outputs": [],
   "source": [
    "class Client:\n",
    "    client = socket.socket(socket.AF_INET, socket.SOCK_STREAM)\n",
    "    username = \"Olamide\"\n",
    "    def send_message(self):\n",
    "        connected = True\n",
    "        while connected:\n",
    "            message = input(\"Message here: \")\n",
    "            message = self.username + \" : \" + message\n",
    "            message_encode = message.encode(self.format)\n",
    "            self.client.send(message_encode)\n",
    "            if message == 'end':\n",
    "                connected = False\n",
    "    def __init__(self):\n",
    "        self.format = 'utf-8'\n",
    "        self.port = 3030\n",
    "        self.Server = \"192.168.137.1\"\n",
    "        self.Addr = (self.Server, self.port)        \n",
    "        self.client.connect(self.Addr)\n",
    "        thread = threading.Thread(target = self.send_message)\n",
    "        thread.daemon = True\n",
    "        thread.start()\n",
    "        while True:\n",
    "            msg = self.client.recv(1024).decode(self.format)\n",
    "            if msg == \"end\":\n",
    "                break\n",
    "            print(msg)\n",
    " "
   ]
  },
  {
   "cell_type": "code",
   "execution_count": null,
   "metadata": {},
   "outputs": [
    {
     "name": "stdout",
     "output_type": "stream",
     "text": [
      "Bamz : Olamide\n",
      "Bamz : Hi Bamz\n",
      "Message here: Hello\n",
      "Olamide : Hello\n"
     ]
    }
   ],
   "source": [
    "clck = Client()"
   ]
  },
  {
   "cell_type": "code",
   "execution_count": null,
   "metadata": {},
   "outputs": [],
   "source": []
  },
  {
   "cell_type": "code",
   "execution_count": null,
   "metadata": {},
   "outputs": [],
   "source": []
  }
 ],
 "metadata": {
  "kernelspec": {
   "display_name": "Python 3",
   "language": "python",
   "name": "python3"
  },
  "language_info": {
   "codemirror_mode": {
    "name": "ipython",
    "version": 3
   },
   "file_extension": ".py",
   "mimetype": "text/x-python",
   "name": "python",
   "nbconvert_exporter": "python",
   "pygments_lexer": "ipython3",
   "version": "3.7.6"
  }
 },
 "nbformat": 4,
 "nbformat_minor": 4
}
