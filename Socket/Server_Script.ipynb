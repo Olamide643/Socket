{
 "cells": [
  {
   "cell_type": "code",
   "execution_count": null,
   "metadata": {},
   "outputs": [],
   "source": [
    "import socket\n",
    "import threading "
   ]
  },
  {
   "cell_type": "code",
   "execution_count": null,
   "metadata": {},
   "outputs": [],
   "source": [
    "class Server:\n",
    "    Server = socket.gethostbyname(socket.gethostname())\n",
    "    connections = []\n",
    "    server = socket.socket(socket.AF_INET, socket.SOCK_STREAM)\n",
    "    port = 3030\n",
    "    format = 'utf-8' \n",
    "    Addr = (Server,port)\n",
    "    def __init__(self):\n",
    "        self.server.bind(self.Addr)\n",
    "        self.server.listen()\n",
    "        \n",
    "    def handle_client(self,conn,addr):\n",
    "        #print(\"[NEW CONNECTION] {} connected\".format(addr))\n",
    "        connected = True\n",
    "        while connected:\n",
    "            msg = conn.recv(1024).decode(self.format)\n",
    "            if msg:\n",
    "                print(msg)\n",
    "                for connection in self.connections: \n",
    "                    connection.send(msg.encode(self.format))\n",
    "                if msg == \"end\":\n",
    "                    connected = False\n",
    "                    self.connections.remove(conn)\n",
    "                    connection.close()\n",
    "                    print(\"{} : {} is disconnected\".format(conn,addr))\n",
    "                \n",
    "    def start(self):\n",
    "        print(\"[STARTING] server {} is starting........\".format(Server))\n",
    "        print(\"[Listening] server {}  is listening........\")\n",
    "        while True:\n",
    "            conn, addr = self.server.accept()\n",
    "            cthread = threading.Thread(target = self.handle_client, args = (conn,addr))\n",
    "            cthread.daemon = True\n",
    "            cthread.start()\n",
    "            self.connections.append(conn)\n",
    "            print(\"{} : {} is connected\".format(conn, addr))\n",
    "            \n",
    "        #print('[Active Connections] :',threading.activeCount()-1)    \n",
    "        "
   ]
  },
  {
   "cell_type": "code",
   "execution_count": null,
   "metadata": {},
   "outputs": [],
   "source": [
    "serve = Server()\n",
    "serve.start()"
   ]
  },
  {
   "cell_type": "code",
   "execution_count": null,
   "metadata": {},
   "outputs": [],
   "source": []
  }
 ],
 "metadata": {
  "kernelspec": {
   "display_name": "Python 3",
   "language": "python",
   "name": "python3"
  },
  "language_info": {
   "codemirror_mode": {
    "name": "ipython",
    "version": 3
   },
   "file_extension": ".py",
   "mimetype": "text/x-python",
   "name": "python",
   "nbconvert_exporter": "python",
   "pygments_lexer": "ipython3",
   "version": "3.7.6"
  }
 },
 "nbformat": 4,
 "nbformat_minor": 4
}
